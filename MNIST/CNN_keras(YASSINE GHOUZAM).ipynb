{
 "cells": [
  {
   "cell_type": "code",
   "execution_count": 1,
   "id": "6b7e296c",
   "metadata": {
    "_cell_guid": "b1076dfc-b9ad-4769-8c92-a6c4dae69d19",
    "_uuid": "8f2839f25d086af736a60e9eeb907d3b93b6e0e5",
    "execution": {
     "iopub.execute_input": "2024-01-15T08:40:25.291254Z",
     "iopub.status.busy": "2024-01-15T08:40:25.290690Z",
     "iopub.status.idle": "2024-01-15T08:40:25.314708Z",
     "shell.execute_reply": "2024-01-15T08:40:25.313780Z"
    },
    "papermill": {
     "duration": 0.037002,
     "end_time": "2024-01-15T08:40:25.316691",
     "exception": false,
     "start_time": "2024-01-15T08:40:25.279689",
     "status": "completed"
    },
    "tags": []
   },
   "outputs": [
    {
     "name": "stdout",
     "output_type": "stream",
     "text": [
      "/kaggle/input/25-million-images-0-99757-mnist/MNIST-CNN-ENSEMBLE.csv\n",
      "/kaggle/input/25-million-images-0-99757-mnist/__results__.html\n",
      "/kaggle/input/25-million-images-0-99757-mnist/__resultx__.html\n",
      "/kaggle/input/25-million-images-0-99757-mnist/__notebook__.ipynb\n",
      "/kaggle/input/25-million-images-0-99757-mnist/__output__.json\n",
      "/kaggle/input/25-million-images-0-99757-mnist/custom.css\n",
      "/kaggle/input/25-million-images-0-99757-mnist/__results___files/__results___8_0.png\n",
      "/kaggle/input/25-million-images-0-99757-mnist/__results___files/__results___5_0.png\n",
      "/kaggle/input/25-million-images-0-99757-mnist/__results___files/__results___16_0.png\n",
      "/kaggle/input/digit-recognizer/sample_submission.csv\n",
      "/kaggle/input/digit-recognizer/train.csv\n",
      "/kaggle/input/digit-recognizer/test.csv\n"
     ]
    }
   ],
   "source": [
    "# This Python 3 environment comes with many helpful analytics libraries installed\n",
    "# It is defined by the kaggle/python Docker image: https://github.com/kaggle/docker-python\n",
    "# For example, here's several helpful packages to load\n",
    "\n",
    "\n",
    "# Input data files are available in the read-only \"../input/\" directory\n",
    "# For example, running this (by clicking run or pressing Shift+Enter) will list all files under the input directory\n",
    "\n",
    "import os\n",
    "for dirname, _, filenames in os.walk('/kaggle/input'):\n",
    "    for filename in filenames:\n",
    "        print(os.path.join(dirname, filename))\n",
    "\n",
    "# You can write up to 20GB to the current directory (/kaggle/working/) that gets preserved as output when you create a version using \"Save & Run All\" \n",
    "# You can also write temporary files to /kaggle/temp/, but they won't be saved outside of the current session"
   ]
  },
  {
   "cell_type": "markdown",
   "id": "4ba8e821",
   "metadata": {
    "papermill": {
     "duration": 0.009219,
     "end_time": "2024-01-15T08:40:25.335604",
     "exception": false,
     "start_time": "2024-01-15T08:40:25.326385",
     "status": "completed"
    },
    "tags": []
   },
   "source": [
    "# Indroduction to CNN keras - Acc 0.997 (top 8%)\n",
    "\n",
    "### Min Chul Cha, PhD\n",
    "\n",
    "- 1.Introduction\n",
    "- 2. Data preparation\n",
    "    - 2.1 Load data\n",
    "    - 2.2 Check for null and missing values\n",
    "    - 2.3 Normalization\n",
    "    - 2.4 Reshape\n",
    "    - 2.5 Label encoding\n",
    "    - 2.6 Split training and validation set\n",
    "- 3. CNN\n",
    "    - 3.1 Define the model\n",
    "    - 3.2 Set the optimizer and annealer\n",
    "    - 3.3 Data augmentation\n",
    "- 4. Evaluate the model\n",
    "    - 4.1 Training and validation curves\n",
    "    - 4.2 Confusion matrix\n",
    "- 5. Prediction and submission\n",
    "    - 5.1 Predic and Submit results\n",
    "    \n",
    "\n"
   ]
  },
  {
   "cell_type": "markdown",
   "id": "68cedefc",
   "metadata": {
    "papermill": {
     "duration": 0.009003,
     "end_time": "2024-01-15T08:40:25.353899",
     "exception": false,
     "start_time": "2024-01-15T08:40:25.344896",
     "status": "completed"
    },
    "tags": []
   },
   "source": [
    "# 1. Introduction\n",
    "\n",
    "This ia a 5 layers Sequential Convolutional Neural Network for digits recognition trained on MNIST dataset. I choosed to build it with keras API (Tensorflow backend) which is very intuitive. Firstly, I will prepare the data (handwritten digits images) then I will focus on the CNN modeling and evaluation.\n",
    "\n",
    "I achieved 99.671% of accuracy with this CNN trained in 2h30 on a single CPU (i5 2500k). For those who have a >= 3.0 GPU capabilites (from GTX 650 - to recent GPUs), you can use tensorflow-gpu with keras. Computation will be much much faster!!!\n",
    "\n",
    "__For computational reason, I set the number of steps (epochs) to 2, if you want to achieve 99+% of accuracy set it to 30.__\n",
    "\n",
    "This Notebook follows three main parts:\n",
    "\n",
    "- The data preperation\n",
    "- The CNN modeling and evaluation\n",
    "- The results prediction and submission\n",
    "\n",
    "<img src=\"https://www.researchgate.net/profile/Hiromichi-Fujisawa/publication/222834590/figure/fig1/AS:305192974209026@1449775083949/Sample-images-of-CENPARMI-data_W640.jpg\" ></img>"
   ]
  },
  {
   "cell_type": "code",
   "execution_count": 2,
   "id": "0a8809ef",
   "metadata": {
    "execution": {
     "iopub.execute_input": "2024-01-15T08:40:25.373491Z",
     "iopub.status.busy": "2024-01-15T08:40:25.373223Z",
     "iopub.status.idle": "2024-01-15T08:40:38.078253Z",
     "shell.execute_reply": "2024-01-15T08:40:38.077482Z"
    },
    "papermill": {
     "duration": 12.717358,
     "end_time": "2024-01-15T08:40:38.080551",
     "exception": false,
     "start_time": "2024-01-15T08:40:25.363193",
     "status": "completed"
    },
    "tags": []
   },
   "outputs": [
    {
     "name": "stderr",
     "output_type": "stream",
     "text": [
      "/opt/conda/lib/python3.10/site-packages/scipy/__init__.py:146: UserWarning: A NumPy version >=1.16.5 and <1.23.0 is required for this version of SciPy (detected version 1.24.3\n",
      "  warnings.warn(f\"A NumPy version >={np_minversion} and <{np_maxversion}\"\n"
     ]
    }
   ],
   "source": [
    "# LOAD LIBRARIES\n",
    "import pandas as pd\n",
    "import numpy as np\n",
    "import matplotlib.pyplot as plt\n",
    "import matplotlib.image as mpimg\n",
    "import seaborn as sns\n",
    "%matplotlib inline\n",
    "\n",
    "np.random.seed(2)\n",
    "\n",
    "from sklearn.model_selection import train_test_split\n",
    "from sklearn.metrics import confusion_matrix\n",
    "import itertools\n",
    "\n",
    "from tensorflow.keras.utils import to_categorical # convert to one-hot-encoding\n",
    "from keras.models import Sequential\n",
    "from keras.layers import Dense, Dropout, Flatten, Conv2D, MaxPool2D, BatchNormalization\n",
    "from keras.optimizers import RMSprop\n",
    "from keras.preprocessing.image import ImageDataGenerator\n",
    "from keras.callbacks import ReduceLROnPlateau\n",
    "from keras.callbacks import LearningRateScheduler\n",
    "\n",
    "\n",
    "sns.set(style='white', context='notebook', palette='deep')\n",
    "\n"
   ]
  },
  {
   "cell_type": "markdown",
   "id": "7ffc4547",
   "metadata": {
    "papermill": {
     "duration": 0.009364,
     "end_time": "2024-01-15T08:40:38.099911",
     "exception": false,
     "start_time": "2024-01-15T08:40:38.090547",
     "status": "completed"
    },
    "tags": []
   },
   "source": [
    "# 2. Data preparation\n",
    "\n",
    "## 2.1 Load data"
   ]
  },
  {
   "cell_type": "code",
   "execution_count": 3,
   "id": "13f73d54",
   "metadata": {
    "execution": {
     "iopub.execute_input": "2024-01-15T08:40:38.120261Z",
     "iopub.status.busy": "2024-01-15T08:40:38.119505Z",
     "iopub.status.idle": "2024-01-15T08:40:43.604717Z",
     "shell.execute_reply": "2024-01-15T08:40:43.603944Z"
    },
    "papermill": {
     "duration": 5.497641,
     "end_time": "2024-01-15T08:40:43.606980",
     "exception": false,
     "start_time": "2024-01-15T08:40:38.109339",
     "status": "completed"
    },
    "tags": []
   },
   "outputs": [],
   "source": [
    "# LOAD THE DATA\n",
    "train = pd.read_csv(f\"/kaggle/input/digit-recognizer/train.csv\")\n",
    "test = pd.read_csv(f\"/kaggle/input/digit-recognizer/test.csv\")\n"
   ]
  },
  {
   "cell_type": "code",
   "execution_count": 4,
   "id": "27b44bb4",
   "metadata": {
    "execution": {
     "iopub.execute_input": "2024-01-15T08:40:43.629728Z",
     "iopub.status.busy": "2024-01-15T08:40:43.629010Z",
     "iopub.status.idle": "2024-01-15T08:40:45.448953Z",
     "shell.execute_reply": "2024-01-15T08:40:45.448003Z"
    },
    "papermill": {
     "duration": 1.832694,
     "end_time": "2024-01-15T08:40:45.450935",
     "exception": false,
     "start_time": "2024-01-15T08:40:43.618241",
     "status": "completed"
    },
    "tags": []
   },
   "outputs": [
    {
     "data": {
      "text/html": [
       "<div>\n",
       "<style scoped>\n",
       "    .dataframe tbody tr th:only-of-type {\n",
       "        vertical-align: middle;\n",
       "    }\n",
       "\n",
       "    .dataframe tbody tr th {\n",
       "        vertical-align: top;\n",
       "    }\n",
       "\n",
       "    .dataframe thead th {\n",
       "        text-align: right;\n",
       "    }\n",
       "</style>\n",
       "<table border=\"1\" class=\"dataframe\">\n",
       "  <thead>\n",
       "    <tr style=\"text-align: right;\">\n",
       "      <th></th>\n",
       "      <th>label</th>\n",
       "      <th>pixel0</th>\n",
       "      <th>pixel1</th>\n",
       "      <th>pixel2</th>\n",
       "      <th>pixel3</th>\n",
       "      <th>pixel4</th>\n",
       "      <th>pixel5</th>\n",
       "      <th>pixel6</th>\n",
       "      <th>pixel7</th>\n",
       "      <th>pixel8</th>\n",
       "      <th>...</th>\n",
       "      <th>pixel774</th>\n",
       "      <th>pixel775</th>\n",
       "      <th>pixel776</th>\n",
       "      <th>pixel777</th>\n",
       "      <th>pixel778</th>\n",
       "      <th>pixel779</th>\n",
       "      <th>pixel780</th>\n",
       "      <th>pixel781</th>\n",
       "      <th>pixel782</th>\n",
       "      <th>pixel783</th>\n",
       "    </tr>\n",
       "  </thead>\n",
       "  <tbody>\n",
       "    <tr>\n",
       "      <th>count</th>\n",
       "      <td>42000.000000</td>\n",
       "      <td>42000.0</td>\n",
       "      <td>42000.0</td>\n",
       "      <td>42000.0</td>\n",
       "      <td>42000.0</td>\n",
       "      <td>42000.0</td>\n",
       "      <td>42000.0</td>\n",
       "      <td>42000.0</td>\n",
       "      <td>42000.0</td>\n",
       "      <td>42000.0</td>\n",
       "      <td>...</td>\n",
       "      <td>42000.000000</td>\n",
       "      <td>42000.000000</td>\n",
       "      <td>42000.000000</td>\n",
       "      <td>42000.00000</td>\n",
       "      <td>42000.000000</td>\n",
       "      <td>42000.000000</td>\n",
       "      <td>42000.0</td>\n",
       "      <td>42000.0</td>\n",
       "      <td>42000.0</td>\n",
       "      <td>42000.0</td>\n",
       "    </tr>\n",
       "    <tr>\n",
       "      <th>mean</th>\n",
       "      <td>4.456643</td>\n",
       "      <td>0.0</td>\n",
       "      <td>0.0</td>\n",
       "      <td>0.0</td>\n",
       "      <td>0.0</td>\n",
       "      <td>0.0</td>\n",
       "      <td>0.0</td>\n",
       "      <td>0.0</td>\n",
       "      <td>0.0</td>\n",
       "      <td>0.0</td>\n",
       "      <td>...</td>\n",
       "      <td>0.219286</td>\n",
       "      <td>0.117095</td>\n",
       "      <td>0.059024</td>\n",
       "      <td>0.02019</td>\n",
       "      <td>0.017238</td>\n",
       "      <td>0.002857</td>\n",
       "      <td>0.0</td>\n",
       "      <td>0.0</td>\n",
       "      <td>0.0</td>\n",
       "      <td>0.0</td>\n",
       "    </tr>\n",
       "    <tr>\n",
       "      <th>std</th>\n",
       "      <td>2.887730</td>\n",
       "      <td>0.0</td>\n",
       "      <td>0.0</td>\n",
       "      <td>0.0</td>\n",
       "      <td>0.0</td>\n",
       "      <td>0.0</td>\n",
       "      <td>0.0</td>\n",
       "      <td>0.0</td>\n",
       "      <td>0.0</td>\n",
       "      <td>0.0</td>\n",
       "      <td>...</td>\n",
       "      <td>6.312890</td>\n",
       "      <td>4.633819</td>\n",
       "      <td>3.274488</td>\n",
       "      <td>1.75987</td>\n",
       "      <td>1.894498</td>\n",
       "      <td>0.414264</td>\n",
       "      <td>0.0</td>\n",
       "      <td>0.0</td>\n",
       "      <td>0.0</td>\n",
       "      <td>0.0</td>\n",
       "    </tr>\n",
       "    <tr>\n",
       "      <th>min</th>\n",
       "      <td>0.000000</td>\n",
       "      <td>0.0</td>\n",
       "      <td>0.0</td>\n",
       "      <td>0.0</td>\n",
       "      <td>0.0</td>\n",
       "      <td>0.0</td>\n",
       "      <td>0.0</td>\n",
       "      <td>0.0</td>\n",
       "      <td>0.0</td>\n",
       "      <td>0.0</td>\n",
       "      <td>...</td>\n",
       "      <td>0.000000</td>\n",
       "      <td>0.000000</td>\n",
       "      <td>0.000000</td>\n",
       "      <td>0.00000</td>\n",
       "      <td>0.000000</td>\n",
       "      <td>0.000000</td>\n",
       "      <td>0.0</td>\n",
       "      <td>0.0</td>\n",
       "      <td>0.0</td>\n",
       "      <td>0.0</td>\n",
       "    </tr>\n",
       "    <tr>\n",
       "      <th>25%</th>\n",
       "      <td>2.000000</td>\n",
       "      <td>0.0</td>\n",
       "      <td>0.0</td>\n",
       "      <td>0.0</td>\n",
       "      <td>0.0</td>\n",
       "      <td>0.0</td>\n",
       "      <td>0.0</td>\n",
       "      <td>0.0</td>\n",
       "      <td>0.0</td>\n",
       "      <td>0.0</td>\n",
       "      <td>...</td>\n",
       "      <td>0.000000</td>\n",
       "      <td>0.000000</td>\n",
       "      <td>0.000000</td>\n",
       "      <td>0.00000</td>\n",
       "      <td>0.000000</td>\n",
       "      <td>0.000000</td>\n",
       "      <td>0.0</td>\n",
       "      <td>0.0</td>\n",
       "      <td>0.0</td>\n",
       "      <td>0.0</td>\n",
       "    </tr>\n",
       "    <tr>\n",
       "      <th>50%</th>\n",
       "      <td>4.000000</td>\n",
       "      <td>0.0</td>\n",
       "      <td>0.0</td>\n",
       "      <td>0.0</td>\n",
       "      <td>0.0</td>\n",
       "      <td>0.0</td>\n",
       "      <td>0.0</td>\n",
       "      <td>0.0</td>\n",
       "      <td>0.0</td>\n",
       "      <td>0.0</td>\n",
       "      <td>...</td>\n",
       "      <td>0.000000</td>\n",
       "      <td>0.000000</td>\n",
       "      <td>0.000000</td>\n",
       "      <td>0.00000</td>\n",
       "      <td>0.000000</td>\n",
       "      <td>0.000000</td>\n",
       "      <td>0.0</td>\n",
       "      <td>0.0</td>\n",
       "      <td>0.0</td>\n",
       "      <td>0.0</td>\n",
       "    </tr>\n",
       "    <tr>\n",
       "      <th>75%</th>\n",
       "      <td>7.000000</td>\n",
       "      <td>0.0</td>\n",
       "      <td>0.0</td>\n",
       "      <td>0.0</td>\n",
       "      <td>0.0</td>\n",
       "      <td>0.0</td>\n",
       "      <td>0.0</td>\n",
       "      <td>0.0</td>\n",
       "      <td>0.0</td>\n",
       "      <td>0.0</td>\n",
       "      <td>...</td>\n",
       "      <td>0.000000</td>\n",
       "      <td>0.000000</td>\n",
       "      <td>0.000000</td>\n",
       "      <td>0.00000</td>\n",
       "      <td>0.000000</td>\n",
       "      <td>0.000000</td>\n",
       "      <td>0.0</td>\n",
       "      <td>0.0</td>\n",
       "      <td>0.0</td>\n",
       "      <td>0.0</td>\n",
       "    </tr>\n",
       "    <tr>\n",
       "      <th>max</th>\n",
       "      <td>9.000000</td>\n",
       "      <td>0.0</td>\n",
       "      <td>0.0</td>\n",
       "      <td>0.0</td>\n",
       "      <td>0.0</td>\n",
       "      <td>0.0</td>\n",
       "      <td>0.0</td>\n",
       "      <td>0.0</td>\n",
       "      <td>0.0</td>\n",
       "      <td>0.0</td>\n",
       "      <td>...</td>\n",
       "      <td>254.000000</td>\n",
       "      <td>254.000000</td>\n",
       "      <td>253.000000</td>\n",
       "      <td>253.00000</td>\n",
       "      <td>254.000000</td>\n",
       "      <td>62.000000</td>\n",
       "      <td>0.0</td>\n",
       "      <td>0.0</td>\n",
       "      <td>0.0</td>\n",
       "      <td>0.0</td>\n",
       "    </tr>\n",
       "  </tbody>\n",
       "</table>\n",
       "<p>8 rows × 785 columns</p>\n",
       "</div>"
      ],
      "text/plain": [
       "              label   pixel0   pixel1   pixel2   pixel3   pixel4   pixel5  \\\n",
       "count  42000.000000  42000.0  42000.0  42000.0  42000.0  42000.0  42000.0   \n",
       "mean       4.456643      0.0      0.0      0.0      0.0      0.0      0.0   \n",
       "std        2.887730      0.0      0.0      0.0      0.0      0.0      0.0   \n",
       "min        0.000000      0.0      0.0      0.0      0.0      0.0      0.0   \n",
       "25%        2.000000      0.0      0.0      0.0      0.0      0.0      0.0   \n",
       "50%        4.000000      0.0      0.0      0.0      0.0      0.0      0.0   \n",
       "75%        7.000000      0.0      0.0      0.0      0.0      0.0      0.0   \n",
       "max        9.000000      0.0      0.0      0.0      0.0      0.0      0.0   \n",
       "\n",
       "        pixel6   pixel7   pixel8  ...      pixel774      pixel775  \\\n",
       "count  42000.0  42000.0  42000.0  ...  42000.000000  42000.000000   \n",
       "mean       0.0      0.0      0.0  ...      0.219286      0.117095   \n",
       "std        0.0      0.0      0.0  ...      6.312890      4.633819   \n",
       "min        0.0      0.0      0.0  ...      0.000000      0.000000   \n",
       "25%        0.0      0.0      0.0  ...      0.000000      0.000000   \n",
       "50%        0.0      0.0      0.0  ...      0.000000      0.000000   \n",
       "75%        0.0      0.0      0.0  ...      0.000000      0.000000   \n",
       "max        0.0      0.0      0.0  ...    254.000000    254.000000   \n",
       "\n",
       "           pixel776     pixel777      pixel778      pixel779  pixel780  \\\n",
       "count  42000.000000  42000.00000  42000.000000  42000.000000   42000.0   \n",
       "mean       0.059024      0.02019      0.017238      0.002857       0.0   \n",
       "std        3.274488      1.75987      1.894498      0.414264       0.0   \n",
       "min        0.000000      0.00000      0.000000      0.000000       0.0   \n",
       "25%        0.000000      0.00000      0.000000      0.000000       0.0   \n",
       "50%        0.000000      0.00000      0.000000      0.000000       0.0   \n",
       "75%        0.000000      0.00000      0.000000      0.000000       0.0   \n",
       "max      253.000000    253.00000    254.000000     62.000000       0.0   \n",
       "\n",
       "       pixel781  pixel782  pixel783  \n",
       "count   42000.0   42000.0   42000.0  \n",
       "mean        0.0       0.0       0.0  \n",
       "std         0.0       0.0       0.0  \n",
       "min         0.0       0.0       0.0  \n",
       "25%         0.0       0.0       0.0  \n",
       "50%         0.0       0.0       0.0  \n",
       "75%         0.0       0.0       0.0  \n",
       "max         0.0       0.0       0.0  \n",
       "\n",
       "[8 rows x 785 columns]"
      ]
     },
     "execution_count": 4,
     "metadata": {},
     "output_type": "execute_result"
    }
   ],
   "source": [
    "train.describe()"
   ]
  },
  {
   "cell_type": "markdown",
   "id": "25b8352c",
   "metadata": {
    "papermill": {
     "duration": 0.010411,
     "end_time": "2024-01-15T08:40:45.471876",
     "exception": false,
     "start_time": "2024-01-15T08:40:45.461465",
     "status": "completed"
    },
    "tags": []
   },
   "source": [
    "The data consists of 1 label + 784 pixel columns (28x28)\n",
    "The data include grayscale digits from 0 to 255 for each pixel."
   ]
  },
  {
   "cell_type": "code",
   "execution_count": 5,
   "id": "0ef9dec4",
   "metadata": {
    "execution": {
     "iopub.execute_input": "2024-01-15T08:40:45.492743Z",
     "iopub.status.busy": "2024-01-15T08:40:45.492463Z",
     "iopub.status.idle": "2024-01-15T08:40:45.979254Z",
     "shell.execute_reply": "2024-01-15T08:40:45.978397Z"
    },
    "papermill": {
     "duration": 0.499538,
     "end_time": "2024-01-15T08:40:45.981259",
     "exception": false,
     "start_time": "2024-01-15T08:40:45.481721",
     "status": "completed"
    },
    "tags": []
   },
   "outputs": [
    {
     "data": {
      "text/plain": [
       "label\n",
       "1    4684\n",
       "7    4401\n",
       "3    4351\n",
       "9    4188\n",
       "2    4177\n",
       "6    4137\n",
       "0    4132\n",
       "4    4072\n",
       "8    4063\n",
       "5    3795\n",
       "Name: count, dtype: int64"
      ]
     },
     "execution_count": 5,
     "metadata": {},
     "output_type": "execute_result"
    },
    {
     "data": {
      "image/png": "[encoded data removed]",
      "text/plain": [
       "<Figure size 640x480 with 1 Axes>"
      ]
     },
     "metadata": {},
     "output_type": "display_data"
    }
   ],
   "source": [
    "Y_train = train[\"label\"]\n",
    "\n",
    "# Drop 'label' column\n",
    "X_train = train.drop(\"label\", axis = 1)\n",
    "\n",
    "# free some space\n",
    "# del train\n",
    "\n",
    "#g = Y_train.hist()\n",
    "sns.countplot(data=train, x=train[\"label\"])\n",
    "plt.show\n",
    "Y_train.value_counts()"
   ]
  },
  {
   "cell_type": "markdown",
   "id": "81db8c6f",
   "metadata": {
    "papermill": {
     "duration": 0.010206,
     "end_time": "2024-01-15T08:40:46.001998",
     "exception": false,
     "start_time": "2024-01-15T08:40:45.991792",
     "status": "completed"
    },
    "tags": []
   },
   "source": [
    "We have similar gounts for the 10 digits."
   ]
  },
  {
   "cell_type": "markdown",
   "id": "d6d18447",
   "metadata": {
    "papermill": {
     "duration": 0.01039,
     "end_time": "2024-01-15T08:40:46.022675",
     "exception": false,
     "start_time": "2024-01-15T08:40:46.012285",
     "status": "completed"
    },
    "tags": []
   },
   "source": [
    "## 2.2 Check for null and missing values"
   ]
  },
  {
   "cell_type": "code",
   "execution_count": 6,
   "id": "2cf3d854",
   "metadata": {
    "execution": {
     "iopub.execute_input": "2024-01-15T08:40:46.044342Z",
     "iopub.status.busy": "2024-01-15T08:40:46.044052Z",
     "iopub.status.idle": "2024-01-15T08:40:46.060608Z",
     "shell.execute_reply": "2024-01-15T08:40:46.059734Z"
    },
    "papermill": {
     "duration": 0.02947,
     "end_time": "2024-01-15T08:40:46.062443",
     "exception": false,
     "start_time": "2024-01-15T08:40:46.032973",
     "status": "completed"
    },
    "tags": []
   },
   "outputs": [
    {
     "data": {
      "text/plain": [
       "count       784\n",
       "unique        1\n",
       "top       False\n",
       "freq        784\n",
       "dtype: object"
      ]
     },
     "execution_count": 6,
     "metadata": {},
     "output_type": "execute_result"
    }
   ],
   "source": [
    "# Check the data\n",
    "X_train.isnull().any().describe()"
   ]
  },
  {
   "cell_type": "code",
   "execution_count": 7,
   "id": "7fd10e6c",
   "metadata": {
    "execution": {
     "iopub.execute_input": "2024-01-15T08:40:46.084197Z",
     "iopub.status.busy": "2024-01-15T08:40:46.083908Z",
     "iopub.status.idle": "2024-01-15T08:40:46.095743Z",
     "shell.execute_reply": "2024-01-15T08:40:46.094933Z"
    },
    "papermill": {
     "duration": 0.024787,
     "end_time": "2024-01-15T08:40:46.097634",
     "exception": false,
     "start_time": "2024-01-15T08:40:46.072847",
     "status": "completed"
    },
    "tags": []
   },
   "outputs": [
    {
     "data": {
      "text/plain": [
       "count       784\n",
       "unique        1\n",
       "top       False\n",
       "freq        784\n",
       "dtype: object"
      ]
     },
     "execution_count": 7,
     "metadata": {},
     "output_type": "execute_result"
    }
   ],
   "source": [
    "test.isnull().any().describe()"
   ]
  },
  {
   "cell_type": "markdown",
   "id": "6b8f0c94",
   "metadata": {
    "papermill": {
     "duration": 0.010188,
     "end_time": "2024-01-15T08:40:46.119046",
     "exception": false,
     "start_time": "2024-01-15T08:40:46.108858",
     "status": "completed"
    },
    "tags": []
   },
   "source": [
    "I check for corrupted images (missing values inside).\n",
    "There is no missing values in the train and test dataset. So we can safely go ahead."
   ]
  },
  {
   "cell_type": "markdown",
   "id": "653c1bb5",
   "metadata": {
    "papermill": {
     "duration": 0.010199,
     "end_time": "2024-01-15T08:40:46.139827",
     "exception": false,
     "start_time": "2024-01-15T08:40:46.129628",
     "status": "completed"
    },
    "tags": []
   },
   "source": [
    "## 2.3 Normalization\n",
    "\n",
    "We perform a grayscale normalization to reduce the effect of illumination's differences.\n",
    "\n",
    "Moreover the CNN converg faster on [0..1] data then on [0..255]."
   ]
  },
  {
   "cell_type": "code",
   "execution_count": 8,
   "id": "8ac660b8",
   "metadata": {
    "execution": {
     "iopub.execute_input": "2024-01-15T08:40:46.162244Z",
     "iopub.status.busy": "2024-01-15T08:40:46.161545Z",
     "iopub.status.idle": "2024-01-15T08:40:46.251339Z",
     "shell.execute_reply": "2024-01-15T08:40:46.250530Z"
    },
    "papermill": {
     "duration": 0.103271,
     "end_time": "2024-01-15T08:40:46.253612",
     "exception": false,
     "start_time": "2024-01-15T08:40:46.150341",
     "status": "completed"
    },
    "tags": []
   },
   "outputs": [],
   "source": [
    "# Normalization the data\n",
    "X_train = X_train / 255.0\n",
    "test = test / 255.0"
   ]
  },
  {
   "cell_type": "markdown",
   "id": "b7e67afd",
   "metadata": {
    "papermill": {
     "duration": 0.010426,
     "end_time": "2024-01-15T08:40:46.275351",
     "exception": false,
     "start_time": "2024-01-15T08:40:46.264925",
     "status": "completed"
    },
    "tags": []
   },
   "source": [
    "## 2.4 Reshape"
   ]
  },
  {
   "cell_type": "code",
   "execution_count": 9,
   "id": "9476ced2",
   "metadata": {
    "execution": {
     "iopub.execute_input": "2024-01-15T08:40:46.298050Z",
     "iopub.status.busy": "2024-01-15T08:40:46.297386Z",
     "iopub.status.idle": "2024-01-15T08:40:46.302058Z",
     "shell.execute_reply": "2024-01-15T08:40:46.301209Z"
    },
    "papermill": {
     "duration": 0.018047,
     "end_time": "2024-01-15T08:40:46.303992",
     "exception": false,
     "start_time": "2024-01-15T08:40:46.285945",
     "status": "completed"
    },
    "tags": []
   },
   "outputs": [],
   "source": [
    "# Reshape image in 3 dimensions (height = 28px, width = 28px, channal = 1)\n",
    "X_train = X_train.values.reshape(-1, 28, 28, 1)\n",
    "test = test.values.reshape(-1, 28, 28, 1)"
   ]
  },
  {
   "cell_type": "markdown",
   "id": "ae47cdd7",
   "metadata": {
    "papermill": {
     "duration": 0.010205,
     "end_time": "2024-01-15T08:40:46.324777",
     "exception": false,
     "start_time": "2024-01-15T08:40:46.314572",
     "status": "completed"
    },
    "tags": []
   },
   "source": [
    "Train and test images (28px X 28px) has been stock into pandas.Dataframe as 1D vectors of 784 values. We reshape all data to 28x28x1 3D matrices.\n",
    "\n",
    "Keras requires an extra dimension in the end which correspond to channels. MNIST images are gray scaled so it use only one channel. For RGB images. there is 3 channels, we would have reshaped 784px vectors to 28x28x3 3D matrices."
   ]
  },
  {
   "cell_type": "markdown",
   "id": "346bf677",
   "metadata": {
    "papermill": {
     "duration": 0.01048,
     "end_time": "2024-01-15T08:40:46.387533",
     "exception": false,
     "start_time": "2024-01-15T08:40:46.377053",
     "status": "completed"
    },
    "tags": []
   },
   "source": [
    "## 2.5 Label encoding"
   ]
  },
  {
   "cell_type": "code",
   "execution_count": 10,
   "id": "700944a7",
   "metadata": {
    "execution": {
     "iopub.execute_input": "2024-01-15T08:40:46.410340Z",
     "iopub.status.busy": "2024-01-15T08:40:46.409969Z",
     "iopub.status.idle": "2024-01-15T08:40:46.414783Z",
     "shell.execute_reply": "2024-01-15T08:40:46.414101Z"
    },
    "papermill": {
     "duration": 0.018498,
     "end_time": "2024-01-15T08:40:46.416631",
     "exception": false,
     "start_time": "2024-01-15T08:40:46.398133",
     "status": "completed"
    },
    "tags": []
   },
   "outputs": [],
   "source": [
    "# Encode labels to one hot vectors (ex : 2 -> [0,0,1,0,0,0,0,0,0,0])\n",
    "Y_train = to_categorical(Y_train, num_classes = 10)"
   ]
  },
  {
   "cell_type": "markdown",
   "id": "db5030b6",
   "metadata": {
    "papermill": {
     "duration": 0.010292,
     "end_time": "2024-01-15T08:40:46.437489",
     "exception": false,
     "start_time": "2024-01-15T08:40:46.427197",
     "status": "completed"
    },
    "tags": []
   },
   "source": [
    "Labels are 10 digits numbers from 0 to 9. We need to encode these lables to one hot vectors (ex : 2 -> [0,0,1,0,0,0,0,0,0,0])."
   ]
  },
  {
   "cell_type": "markdown",
   "id": "a7051439",
   "metadata": {
    "papermill": {
     "duration": 0.010434,
     "end_time": "2024-01-15T08:40:46.458568",
     "exception": false,
     "start_time": "2024-01-15T08:40:46.448134",
     "status": "completed"
    },
    "tags": []
   },
   "source": [
    "## 2.6 Split training and valdiation set"
   ]
  },
  {
   "cell_type": "code",
   "execution_count": 11,
   "id": "e4a6b38d",
   "metadata": {
    "execution": {
     "iopub.execute_input": "2024-01-15T08:40:46.480895Z",
     "iopub.status.busy": "2024-01-15T08:40:46.480572Z",
     "iopub.status.idle": "2024-01-15T08:40:46.842280Z",
     "shell.execute_reply": "2024-01-15T08:40:46.841529Z"
    },
    "papermill": {
     "duration": 0.375555,
     "end_time": "2024-01-15T08:40:46.844610",
     "exception": false,
     "start_time": "2024-01-15T08:40:46.469055",
     "status": "completed"
    },
    "tags": []
   },
   "outputs": [],
   "source": [
    "# Set the random seed\n",
    "random_seed = 42\n",
    "\n",
    "#Split the train and the validation set for the fitting\n",
    "X_train, X_val, Y_train, Y_val = train_test_split(X_train, Y_train, test_size = 0.2, random_state=random_seed)"
   ]
  },
  {
   "cell_type": "markdown",
   "id": "1a403d63",
   "metadata": {
    "papermill": {
     "duration": 0.010476,
     "end_time": "2024-01-15T08:40:46.866073",
     "exception": false,
     "start_time": "2024-01-15T08:40:46.855597",
     "status": "completed"
    },
    "tags": []
   },
   "source": [
    "I choosed to split the train set in two parts : a small fraction (10%) became the validation set which the model is evaluated and the rest (90%) is used to train the model.\n",
    "\n",
    "Since we have 42 000 training images of balanced labels (see 2.1 Load data), a random split of the train set doesn't cause some labels to be over represented in the validation set. Be carefull with some unbalanced dataset a simple random split could cause inaccurate evaluation during the validation.\n",
    "\n",
    "To avoid that, you could use stratify = True option in train_test_split function **(Only for >=0.17 sklearn versions).**"
   ]
  },
  {
   "cell_type": "markdown",
   "id": "c1bd90ec",
   "metadata": {
    "papermill": {
     "duration": 0.012332,
     "end_time": "2024-01-15T08:40:46.888912",
     "exception": false,
     "start_time": "2024-01-15T08:40:46.876580",
     "status": "completed"
    },
    "tags": []
   },
   "source": [
    "We can get a better sense for one of these examples by visualising the image and looking at the label."
   ]
  },
  {
   "cell_type": "code",
   "execution_count": 12,
   "id": "a91aafae",
   "metadata": {
    "execution": {
     "iopub.execute_input": "2024-01-15T08:40:46.919871Z",
     "iopub.status.busy": "2024-01-15T08:40:46.918487Z",
     "iopub.status.idle": "2024-01-15T08:40:47.240149Z",
     "shell.execute_reply": "2024-01-15T08:40:47.239182Z"
    },
    "papermill": {
     "duration": 0.340442,
     "end_time": "2024-01-15T08:40:47.242349",
     "exception": false,
     "start_time": "2024-01-15T08:40:46.901907",
     "status": "completed"
    },
    "tags": []
   },
   "outputs": [
    {
     "data": {
      "image/png": "[encoded data removed]",
      "text/plain": [
       "<Figure size 640x480 with 1 Axes>"
      ]
     },
     "metadata": {},
     "output_type": "display_data"
    }
   ],
   "source": [
    "# Some examples\n",
    "g = plt.imshow(X_train[2][:,:,0], cmap=plt.cm.binary)"
   ]
  },
  {
   "cell_type": "code",
   "execution_count": null,
   "id": "15d79b99",
   "metadata": {
    "papermill": {
     "duration": 0.011012,
     "end_time": "2024-01-15T08:40:47.264492",
     "exception": false,
     "start_time": "2024-01-15T08:40:47.253480",
     "status": "completed"
    },
    "tags": []
   },
   "outputs": [],
   "source": []
  },
  {
   "cell_type": "code",
   "execution_count": null,
   "id": "2cd20340",
   "metadata": {
    "papermill": {
     "duration": 0.010833,
     "end_time": "2024-01-15T08:40:47.286099",
     "exception": false,
     "start_time": "2024-01-15T08:40:47.275266",
     "status": "completed"
    },
    "tags": []
   },
   "outputs": [],
   "source": []
  },
  {
   "cell_type": "code",
   "execution_count": null,
   "id": "0a0476fc",
   "metadata": {
    "papermill": {
     "duration": 0.01068,
     "end_time": "2024-01-15T08:40:47.307557",
     "exception": false,
     "start_time": "2024-01-15T08:40:47.296877",
     "status": "completed"
    },
    "tags": []
   },
   "outputs": [],
   "source": []
  },
  {
   "cell_type": "code",
   "execution_count": null,
   "id": "fea9e8a4",
   "metadata": {
    "papermill": {
     "duration": 0.010611,
     "end_time": "2024-01-15T08:40:47.328841",
     "exception": false,
     "start_time": "2024-01-15T08:40:47.318230",
     "status": "completed"
    },
    "tags": []
   },
   "outputs": [],
   "source": []
  },
  {
   "cell_type": "code",
   "execution_count": null,
   "id": "6446cded",
   "metadata": {
    "papermill": {
     "duration": 0.010613,
     "end_time": "2024-01-15T08:40:47.350164",
     "exception": false,
     "start_time": "2024-01-15T08:40:47.339551",
     "status": "completed"
    },
    "tags": []
   },
   "outputs": [],
   "source": []
  },
  {
   "cell_type": "code",
   "execution_count": null,
   "id": "7dc279f8",
   "metadata": {
    "papermill": {
     "duration": 0.010625,
     "end_time": "2024-01-15T08:40:47.371504",
     "exception": false,
     "start_time": "2024-01-15T08:40:47.360879",
     "status": "completed"
    },
    "tags": []
   },
   "outputs": [],
   "source": []
  },
  {
   "cell_type": "code",
   "execution_count": null,
   "id": "fec95d4f",
   "metadata": {
    "papermill": {
     "duration": 0.010582,
     "end_time": "2024-01-15T08:40:47.392789",
     "exception": false,
     "start_time": "2024-01-15T08:40:47.382207",
     "status": "completed"
    },
    "tags": []
   },
   "outputs": [],
   "source": []
  },
  {
   "cell_type": "code",
   "execution_count": null,
   "id": "1e68aab6",
   "metadata": {
    "papermill": {
     "duration": 0.010769,
     "end_time": "2024-01-15T08:40:47.414274",
     "exception": false,
     "start_time": "2024-01-15T08:40:47.403505",
     "status": "completed"
    },
    "tags": []
   },
   "outputs": [],
   "source": []
  },
  {
   "cell_type": "code",
   "execution_count": null,
   "id": "73c3b25c",
   "metadata": {
    "papermill": {
     "duration": 0.010658,
     "end_time": "2024-01-15T08:40:47.435653",
     "exception": false,
     "start_time": "2024-01-15T08:40:47.424995",
     "status": "completed"
    },
    "tags": []
   },
   "outputs": [],
   "source": []
  },
  {
   "cell_type": "code",
   "execution_count": null,
   "id": "c2e97f70",
   "metadata": {
    "papermill": {
     "duration": 0.010636,
     "end_time": "2024-01-15T08:40:47.456992",
     "exception": false,
     "start_time": "2024-01-15T08:40:47.446356",
     "status": "completed"
    },
    "tags": []
   },
   "outputs": [],
   "source": []
  },
  {
   "cell_type": "code",
   "execution_count": null,
   "id": "6749386a",
   "metadata": {
    "papermill": {
     "duration": 0.010659,
     "end_time": "2024-01-15T08:40:47.478640",
     "exception": false,
     "start_time": "2024-01-15T08:40:47.467981",
     "status": "completed"
    },
    "tags": []
   },
   "outputs": [],
   "source": []
  },
  {
   "cell_type": "code",
   "execution_count": null,
   "id": "5f85b0cd",
   "metadata": {
    "papermill": {
     "duration": 0.010587,
     "end_time": "2024-01-15T08:40:47.499920",
     "exception": false,
     "start_time": "2024-01-15T08:40:47.489333",
     "status": "completed"
    },
    "tags": []
   },
   "outputs": [],
   "source": []
  },
  {
   "cell_type": "code",
   "execution_count": null,
   "id": "09b225f2",
   "metadata": {
    "papermill": {
     "duration": 0.010723,
     "end_time": "2024-01-15T08:40:47.529775",
     "exception": false,
     "start_time": "2024-01-15T08:40:47.519052",
     "status": "completed"
    },
    "tags": []
   },
   "outputs": [],
   "source": []
  },
  {
   "cell_type": "code",
   "execution_count": null,
   "id": "396e8852",
   "metadata": {
    "papermill": {
     "duration": 0.01067,
     "end_time": "2024-01-15T08:40:47.551309",
     "exception": false,
     "start_time": "2024-01-15T08:40:47.540639",
     "status": "completed"
    },
    "tags": []
   },
   "outputs": [],
   "source": []
  },
  {
   "cell_type": "code",
   "execution_count": null,
   "id": "34b40db9",
   "metadata": {
    "papermill": {
     "duration": 0.010694,
     "end_time": "2024-01-15T08:40:47.572744",
     "exception": false,
     "start_time": "2024-01-15T08:40:47.562050",
     "status": "completed"
    },
    "tags": []
   },
   "outputs": [],
   "source": []
  },
  {
   "cell_type": "code",
   "execution_count": null,
   "id": "2bbe4678",
   "metadata": {
    "papermill": {
     "duration": 0.010738,
     "end_time": "2024-01-15T08:40:47.594225",
     "exception": false,
     "start_time": "2024-01-15T08:40:47.583487",
     "status": "completed"
    },
    "tags": []
   },
   "outputs": [],
   "source": []
  },
  {
   "cell_type": "code",
   "execution_count": null,
   "id": "46613ceb",
   "metadata": {
    "papermill": {
     "duration": 0.010912,
     "end_time": "2024-01-15T08:40:47.615889",
     "exception": false,
     "start_time": "2024-01-15T08:40:47.604977",
     "status": "completed"
    },
    "tags": []
   },
   "outputs": [],
   "source": []
  },
  {
   "cell_type": "code",
   "execution_count": null,
   "id": "4f6ff1fc",
   "metadata": {
    "papermill": {
     "duration": 0.010618,
     "end_time": "2024-01-15T08:40:47.637258",
     "exception": false,
     "start_time": "2024-01-15T08:40:47.626640",
     "status": "completed"
    },
    "tags": []
   },
   "outputs": [],
   "source": []
  }
 ],
 "metadata": {
  "kaggle": {
   "accelerator": "nvidiaTeslaT4",
   "dataSources": [
    {
     "databundleVersionId": 861823,
     "sourceId": 3004,
     "sourceType": "competition"
    },
    {
     "sourceId": 73454105,
     "sourceType": "kernelVersion"
    }
   ],
   "dockerImageVersionId": 30636,
   "isGpuEnabled": true,
   "isInternetEnabled": true,
   "language": "python",
   "sourceType": "notebook"
  },
  "kernelspec": {
   "display_name": "Python 3",
   "language": "python",
   "name": "python3"
  },
  "language_info": {
   "codemirror_mode": {
    "name": "ipython",
    "version": 3
   },
   "file_extension": ".py",
   "mimetype": "text/x-python",
   "name": "python",
   "nbconvert_exporter": "python",
   "pygments_lexer": "ipython3",
   "version": "3.10.12"
  },
  "papermill": {
   "default_parameters": {},
   "duration": 26.800775,
   "end_time": "2024-01-15T08:40:49.070063",
   "environment_variables": {},
   "exception": null,
   "input_path": "__notebook__.ipynb",
   "output_path": "__notebook__.ipynb",
   "parameters": {},
   "start_time": "2024-01-15T08:40:22.269288",
   "version": "2.4.0"
  }
 },
 "nbformat": 4,
 "nbformat_minor": 5
}
